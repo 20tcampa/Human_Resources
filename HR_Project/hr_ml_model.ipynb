{
 "cells": [
  {
   "cell_type": "code",
   "execution_count": 42,
   "metadata": {},
   "outputs": [],
   "source": [
    "import pandas as pd\n",
    "import numpy as np\n",
    "from datetime import date, datetime\n",
    "from sklearn.model_selection import train_test_split\n",
    "from sklearn.metrics import accuracy_score\n",
    "from sklearn.preprocessing import StandardScaler\n",
    "from sklearn.model_selection import GridSearchCV\n",
    "from sklearn.svm import SVC"
   ]
  },
  {
   "cell_type": "code",
   "execution_count": 43,
   "metadata": {},
   "outputs": [],
   "source": [
    "df = pd.read_csv('cleaned_df.csv')\n",
    "df.drop('Unnamed: 0', axis=1, inplace=True)\n",
    "pd.set_option('display.max_columns', None)"
   ]
  },
  {
   "cell_type": "code",
   "execution_count": 44,
   "metadata": {},
   "outputs": [],
   "source": [
    "#Doing the datetime conversions and creating an Age column.\n",
    "\n",
    "datetime_cols = ['DOB','DateofHire','DateofTermination','LastPerformanceReview_Date']\n",
    "\n",
    "for i in datetime_cols:\n",
    "    df[i] = pd.to_datetime(df[i])\n",
    "\n",
    "df['Age'] = (datetime.today().year - df['DOB'].dt.year)"
   ]
  },
  {
   "cell_type": "code",
   "execution_count": 45,
   "metadata": {},
   "outputs": [],
   "source": [
    "#Here I select the variables that I think will be most important in deciding if an employee will be terminated.\n",
    "\n",
    "split_df = df[['Salary','Department','PerformanceScore','EngagementSurvey','EmpSatisfaction','SpecialProjectsCount','DaysLateLast30', 'Absences','Age','Termd']]"
   ]
  },
  {
   "cell_type": "code",
   "execution_count": 46,
   "metadata": {},
   "outputs": [],
   "source": [
    "split_df = pd.get_dummies(split_df, columns=['Department','PerformanceScore'], dtype=int)"
   ]
  },
  {
   "cell_type": "code",
   "execution_count": 47,
   "metadata": {},
   "outputs": [],
   "source": [
    "scaler = StandardScaler()\n",
    "\n",
    "X = split_df.drop('Termd', axis=1)\n",
    "y = split_df['Termd']\n",
    "\n",
    "X = scaler.fit_transform(X)"
   ]
  },
  {
   "cell_type": "code",
   "execution_count": 48,
   "metadata": {},
   "outputs": [],
   "source": [
    "X_train, X_test, y_train, y_test = train_test_split(X, y, random_state=42, test_size=0.2)"
   ]
  },
  {
   "cell_type": "code",
   "execution_count": 49,
   "metadata": {},
   "outputs": [],
   "source": [
    "def modelaccuracy(model):\n",
    "    model.fit(X_train, y_train)\n",
    "    result = accuracy_score(y_test, (model.predict(X_test)))\n",
    "    print(f'Model Accuracy is {result}')"
   ]
  },
  {
   "cell_type": "code",
   "execution_count": 50,
   "metadata": {},
   "outputs": [
    {
     "name": "stdout",
     "output_type": "stream",
     "text": [
      "Model Accuracy is 0.7258064516129032\n"
     ]
    }
   ],
   "source": [
    "clf = SVC(random_state=42)\n",
    "\n",
    "modelaccuracy(clf)"
   ]
  },
  {
   "cell_type": "code",
   "execution_count": 51,
   "metadata": {},
   "outputs": [
    {
     "name": "stdout",
     "output_type": "stream",
     "text": [
      "Model Accuracy is 0.7258064516129032\n"
     ]
    }
   ],
   "source": [
    "clf_param = {'kernel':['linear', 'poly', 'rbf'], 'degree':[2, 3, 4, 5, 6]}\n",
    "\n",
    "grid_clf = GridSearchCV(clf, clf_param)\n",
    "\n",
    "modelaccuracy(grid_clf)"
   ]
  },
  {
   "cell_type": "markdown",
   "metadata": {},
   "source": [
    "- Model accuracy is 0.73%. I used a scaler to normalize the data and ran the model with GridSearchCV to find the best hyperparameters.\n",
    "- I used SVC mainly because this dataset is extremely small and this model is good for small datasets."
   ]
  }
 ],
 "metadata": {
  "kernelspec": {
   "display_name": "Python 3",
   "language": "python",
   "name": "python3"
  },
  "language_info": {
   "codemirror_mode": {
    "name": "ipython",
    "version": 3
   },
   "file_extension": ".py",
   "mimetype": "text/x-python",
   "name": "python",
   "nbconvert_exporter": "python",
   "pygments_lexer": "ipython3",
   "version": "3.11.9"
  }
 },
 "nbformat": 4,
 "nbformat_minor": 2
}
